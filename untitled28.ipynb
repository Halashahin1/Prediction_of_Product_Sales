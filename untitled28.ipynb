{
  "nbformat": 4,
  "nbformat_minor": 0,
  "metadata": {
    "colab": {
      "provenance": [],
      "authorship_tag": "ABX9TyNkULvVO0s9glCrG3dYh/Hz",
      "include_colab_link": true
    },
    "kernelspec": {
      "name": "python3",
      "display_name": "Python 3"
    },
    "language_info": {
      "name": "python"
    }
  },
  "cells": [
    {
      "cell_type": "markdown",
      "metadata": {
        "id": "view-in-github",
        "colab_type": "text"
      },
      "source": [
        "<a href=\"https://colab.research.google.com/github/Halashahin1/Prediction_of_Product_Sales/blob/main/untitled28.ipynb\" target=\"_parent\"><img src=\"https://colab.research.google.com/assets/colab-badge.svg\" alt=\"Open In Colab\"/></a>"
      ]
    },
    {
      "cell_type": "markdown",
      "source": [
        "Resampling Datetime Data(Core) Halaa"
      ],
      "metadata": {
        "id": "ZGIBU05mdl5F"
      }
    },
    {
      "cell_type": "code",
      "execution_count": null,
      "metadata": {
        "id": "rjtoe0DgdcK1"
      },
      "outputs": [],
      "source": [
        "import datetime as dt\n",
        "import pandas as pd\n",
        "import seaborn as sns\n",
        "from matplotlib import dates as mdates\n",
        "import matplotlib.ticker as mticks\n",
        "import matplotlib.dates as mdates\n",
        "import matplotlib.pyplot as plt"
      ]
    },
    {
      "cell_type": "code",
      "source": [
        "from google.colab import drive\n",
        "drive.mount('/content/drive')"
      ],
      "metadata": {
        "colab": {
          "base_uri": "https://localhost:8080/"
        },
        "id": "U2oYU8zRdpB6",
        "outputId": "22cb6c7a-b45c-4d68-c003-94d43862c749"
      },
      "execution_count": null,
      "outputs": [
        {
          "output_type": "stream",
          "name": "stdout",
          "text": [
            "Mounted at /content/drive\n"
          ]
        }
      ]
    },
    {
      "cell_type": "code",
      "source": [
        "fpath = \"/content/drive/MyDrive/london_weather_MODIFIED - london_weather_MODIFIED.csv\"\n",
        "df = pd.read_csv(fpath)"
      ],
      "metadata": {
        "id": "0wmOVlK1dpFa"
      },
      "execution_count": null,
      "outputs": []
    },
    {
      "cell_type": "code",
      "source": [
        "df.info()\n",
        "df.head()"
      ],
      "metadata": {
        "colab": {
          "base_uri": "https://localhost:8080/",
          "height": 501
        },
        "id": "tywkCH8_dpIa",
        "outputId": "1030ca2f-c74f-468f-e85d-8c82d800e3d6"
      },
      "execution_count": null,
      "outputs": [
        {
          "output_type": "stream",
          "name": "stdout",
          "text": [
            "<class 'pandas.core.frame.DataFrame'>\n",
            "RangeIndex: 15341 entries, 0 to 15340\n",
            "Data columns (total 10 columns):\n",
            " #   Column            Non-Null Count  Dtype  \n",
            "---  ------            --------------  -----  \n",
            " 0   date              15341 non-null  int64  \n",
            " 1   cloud_cover       14938 non-null  float64\n",
            " 2   sunshine          14957 non-null  float64\n",
            " 3   global_radiation  14939 non-null  float64\n",
            " 4   max_temp          14951 non-null  float64\n",
            " 5   mean_temp         14922 non-null  float64\n",
            " 6   min_temp          14955 non-null  float64\n",
            " 7   precipitation     14951 non-null  float64\n",
            " 8   pressure          14953 non-null  float64\n",
            " 9   snow_depth        13589 non-null  float64\n",
            "dtypes: float64(9), int64(1)\n",
            "memory usage: 1.2 MB\n"
          ]
        },
        {
          "output_type": "execute_result",
          "data": {
            "text/plain": [
              "       date  cloud_cover  sunshine  global_radiation  max_temp  mean_temp  \\\n",
              "0  19790101          2.0       7.0              52.0       2.3       -4.1   \n",
              "1  19790102          6.0       1.7              27.0       1.6       -2.6   \n",
              "2  19790103          5.0       0.0              13.0       1.3       -2.8   \n",
              "3  19790104          8.0       0.0              13.0      -0.3       -2.6   \n",
              "4  19790105          6.0       2.0              29.0       5.6       -0.8   \n",
              "\n",
              "   min_temp  precipitation  pressure  snow_depth  \n",
              "0      -7.5            0.4  101900.0         9.0  \n",
              "1      -7.5            0.0  102530.0         8.0  \n",
              "2      -7.2            0.0  102050.0         4.0  \n",
              "3      -6.5            0.0  100840.0         2.0  \n",
              "4      -1.4            0.0  102250.0         1.0  "
            ],
            "text/html": [
              "\n",
              "  <div id=\"df-f7fb4f07-fba2-4b16-88be-6c2360f524ff\" class=\"colab-df-container\">\n",
              "    <div>\n",
              "<style scoped>\n",
              "    .dataframe tbody tr th:only-of-type {\n",
              "        vertical-align: middle;\n",
              "    }\n",
              "\n",
              "    .dataframe tbody tr th {\n",
              "        vertical-align: top;\n",
              "    }\n",
              "\n",
              "    .dataframe thead th {\n",
              "        text-align: right;\n",
              "    }\n",
              "</style>\n",
              "<table border=\"1\" class=\"dataframe\">\n",
              "  <thead>\n",
              "    <tr style=\"text-align: right;\">\n",
              "      <th></th>\n",
              "      <th>date</th>\n",
              "      <th>cloud_cover</th>\n",
              "      <th>sunshine</th>\n",
              "      <th>global_radiation</th>\n",
              "      <th>max_temp</th>\n",
              "      <th>mean_temp</th>\n",
              "      <th>min_temp</th>\n",
              "      <th>precipitation</th>\n",
              "      <th>pressure</th>\n",
              "      <th>snow_depth</th>\n",
              "    </tr>\n",
              "  </thead>\n",
              "  <tbody>\n",
              "    <tr>\n",
              "      <th>0</th>\n",
              "      <td>19790101</td>\n",
              "      <td>2.0</td>\n",
              "      <td>7.0</td>\n",
              "      <td>52.0</td>\n",
              "      <td>2.3</td>\n",
              "      <td>-4.1</td>\n",
              "      <td>-7.5</td>\n",
              "      <td>0.4</td>\n",
              "      <td>101900.0</td>\n",
              "      <td>9.0</td>\n",
              "    </tr>\n",
              "    <tr>\n",
              "      <th>1</th>\n",
              "      <td>19790102</td>\n",
              "      <td>6.0</td>\n",
              "      <td>1.7</td>\n",
              "      <td>27.0</td>\n",
              "      <td>1.6</td>\n",
              "      <td>-2.6</td>\n",
              "      <td>-7.5</td>\n",
              "      <td>0.0</td>\n",
              "      <td>102530.0</td>\n",
              "      <td>8.0</td>\n",
              "    </tr>\n",
              "    <tr>\n",
              "      <th>2</th>\n",
              "      <td>19790103</td>\n",
              "      <td>5.0</td>\n",
              "      <td>0.0</td>\n",
              "      <td>13.0</td>\n",
              "      <td>1.3</td>\n",
              "      <td>-2.8</td>\n",
              "      <td>-7.2</td>\n",
              "      <td>0.0</td>\n",
              "      <td>102050.0</td>\n",
              "      <td>4.0</td>\n",
              "    </tr>\n",
              "    <tr>\n",
              "      <th>3</th>\n",
              "      <td>19790104</td>\n",
              "      <td>8.0</td>\n",
              "      <td>0.0</td>\n",
              "      <td>13.0</td>\n",
              "      <td>-0.3</td>\n",
              "      <td>-2.6</td>\n",
              "      <td>-6.5</td>\n",
              "      <td>0.0</td>\n",
              "      <td>100840.0</td>\n",
              "      <td>2.0</td>\n",
              "    </tr>\n",
              "    <tr>\n",
              "      <th>4</th>\n",
              "      <td>19790105</td>\n",
              "      <td>6.0</td>\n",
              "      <td>2.0</td>\n",
              "      <td>29.0</td>\n",
              "      <td>5.6</td>\n",
              "      <td>-0.8</td>\n",
              "      <td>-1.4</td>\n",
              "      <td>0.0</td>\n",
              "      <td>102250.0</td>\n",
              "      <td>1.0</td>\n",
              "    </tr>\n",
              "  </tbody>\n",
              "</table>\n",
              "</div>\n",
              "    <div class=\"colab-df-buttons\">\n",
              "\n",
              "  <div class=\"colab-df-container\">\n",
              "    <button class=\"colab-df-convert\" onclick=\"convertToInteractive('df-f7fb4f07-fba2-4b16-88be-6c2360f524ff')\"\n",
              "            title=\"Convert this dataframe to an interactive table.\"\n",
              "            style=\"display:none;\">\n",
              "\n",
              "  <svg xmlns=\"http://www.w3.org/2000/svg\" height=\"24px\" viewBox=\"0 -960 960 960\">\n",
              "    <path d=\"M120-120v-720h720v720H120Zm60-500h600v-160H180v160Zm220 220h160v-160H400v160Zm0 220h160v-160H400v160ZM180-400h160v-160H180v160Zm440 0h160v-160H620v160ZM180-180h160v-160H180v160Zm440 0h160v-160H620v160Z\"/>\n",
              "  </svg>\n",
              "    </button>\n",
              "\n",
              "  <style>\n",
              "    .colab-df-container {\n",
              "      display:flex;\n",
              "      gap: 12px;\n",
              "    }\n",
              "\n",
              "    .colab-df-convert {\n",
              "      background-color: #E8F0FE;\n",
              "      border: none;\n",
              "      border-radius: 50%;\n",
              "      cursor: pointer;\n",
              "      display: none;\n",
              "      fill: #1967D2;\n",
              "      height: 32px;\n",
              "      padding: 0 0 0 0;\n",
              "      width: 32px;\n",
              "    }\n",
              "\n",
              "    .colab-df-convert:hover {\n",
              "      background-color: #E2EBFA;\n",
              "      box-shadow: 0px 1px 2px rgba(60, 64, 67, 0.3), 0px 1px 3px 1px rgba(60, 64, 67, 0.15);\n",
              "      fill: #174EA6;\n",
              "    }\n",
              "\n",
              "    .colab-df-buttons div {\n",
              "      margin-bottom: 4px;\n",
              "    }\n",
              "\n",
              "    [theme=dark] .colab-df-convert {\n",
              "      background-color: #3B4455;\n",
              "      fill: #D2E3FC;\n",
              "    }\n",
              "\n",
              "    [theme=dark] .colab-df-convert:hover {\n",
              "      background-color: #434B5C;\n",
              "      box-shadow: 0px 1px 3px 1px rgba(0, 0, 0, 0.15);\n",
              "      filter: drop-shadow(0px 1px 2px rgba(0, 0, 0, 0.3));\n",
              "      fill: #FFFFFF;\n",
              "    }\n",
              "  </style>\n",
              "\n",
              "    <script>\n",
              "      const buttonEl =\n",
              "        document.querySelector('#df-f7fb4f07-fba2-4b16-88be-6c2360f524ff button.colab-df-convert');\n",
              "      buttonEl.style.display =\n",
              "        google.colab.kernel.accessAllowed ? 'block' : 'none';\n",
              "\n",
              "      async function convertToInteractive(key) {\n",
              "        const element = document.querySelector('#df-f7fb4f07-fba2-4b16-88be-6c2360f524ff');\n",
              "        const dataTable =\n",
              "          await google.colab.kernel.invokeFunction('convertToInteractive',\n",
              "                                                    [key], {});\n",
              "        if (!dataTable) return;\n",
              "\n",
              "        const docLinkHtml = 'Like what you see? Visit the ' +\n",
              "          '<a target=\"_blank\" href=https://colab.research.google.com/notebooks/data_table.ipynb>data table notebook</a>'\n",
              "          + ' to learn more about interactive tables.';\n",
              "        element.innerHTML = '';\n",
              "        dataTable['output_type'] = 'display_data';\n",
              "        await google.colab.output.renderOutput(dataTable, element);\n",
              "        const docLink = document.createElement('div');\n",
              "        docLink.innerHTML = docLinkHtml;\n",
              "        element.appendChild(docLink);\n",
              "      }\n",
              "    </script>\n",
              "  </div>\n",
              "\n",
              "\n",
              "<div id=\"df-edcef095-5bdd-447b-aa6f-888384d0e254\">\n",
              "  <button class=\"colab-df-quickchart\" onclick=\"quickchart('df-edcef095-5bdd-447b-aa6f-888384d0e254')\"\n",
              "            title=\"Suggest charts\"\n",
              "            style=\"display:none;\">\n",
              "\n",
              "<svg xmlns=\"http://www.w3.org/2000/svg\" height=\"24px\"viewBox=\"0 0 24 24\"\n",
              "     width=\"24px\">\n",
              "    <g>\n",
              "        <path d=\"M19 3H5c-1.1 0-2 .9-2 2v14c0 1.1.9 2 2 2h14c1.1 0 2-.9 2-2V5c0-1.1-.9-2-2-2zM9 17H7v-7h2v7zm4 0h-2V7h2v10zm4 0h-2v-4h2v4z\"/>\n",
              "    </g>\n",
              "</svg>\n",
              "  </button>\n",
              "\n",
              "<style>\n",
              "  .colab-df-quickchart {\n",
              "      --bg-color: #E8F0FE;\n",
              "      --fill-color: #1967D2;\n",
              "      --hover-bg-color: #E2EBFA;\n",
              "      --hover-fill-color: #174EA6;\n",
              "      --disabled-fill-color: #AAA;\n",
              "      --disabled-bg-color: #DDD;\n",
              "  }\n",
              "\n",
              "  [theme=dark] .colab-df-quickchart {\n",
              "      --bg-color: #3B4455;\n",
              "      --fill-color: #D2E3FC;\n",
              "      --hover-bg-color: #434B5C;\n",
              "      --hover-fill-color: #FFFFFF;\n",
              "      --disabled-bg-color: #3B4455;\n",
              "      --disabled-fill-color: #666;\n",
              "  }\n",
              "\n",
              "  .colab-df-quickchart {\n",
              "    background-color: var(--bg-color);\n",
              "    border: none;\n",
              "    border-radius: 50%;\n",
              "    cursor: pointer;\n",
              "    display: none;\n",
              "    fill: var(--fill-color);\n",
              "    height: 32px;\n",
              "    padding: 0;\n",
              "    width: 32px;\n",
              "  }\n",
              "\n",
              "  .colab-df-quickchart:hover {\n",
              "    background-color: var(--hover-bg-color);\n",
              "    box-shadow: 0 1px 2px rgba(60, 64, 67, 0.3), 0 1px 3px 1px rgba(60, 64, 67, 0.15);\n",
              "    fill: var(--button-hover-fill-color);\n",
              "  }\n",
              "\n",
              "  .colab-df-quickchart-complete:disabled,\n",
              "  .colab-df-quickchart-complete:disabled:hover {\n",
              "    background-color: var(--disabled-bg-color);\n",
              "    fill: var(--disabled-fill-color);\n",
              "    box-shadow: none;\n",
              "  }\n",
              "\n",
              "  .colab-df-spinner {\n",
              "    border: 2px solid var(--fill-color);\n",
              "    border-color: transparent;\n",
              "    border-bottom-color: var(--fill-color);\n",
              "    animation:\n",
              "      spin 1s steps(1) infinite;\n",
              "  }\n",
              "\n",
              "  @keyframes spin {\n",
              "    0% {\n",
              "      border-color: transparent;\n",
              "      border-bottom-color: var(--fill-color);\n",
              "      border-left-color: var(--fill-color);\n",
              "    }\n",
              "    20% {\n",
              "      border-color: transparent;\n",
              "      border-left-color: var(--fill-color);\n",
              "      border-top-color: var(--fill-color);\n",
              "    }\n",
              "    30% {\n",
              "      border-color: transparent;\n",
              "      border-left-color: var(--fill-color);\n",
              "      border-top-color: var(--fill-color);\n",
              "      border-right-color: var(--fill-color);\n",
              "    }\n",
              "    40% {\n",
              "      border-color: transparent;\n",
              "      border-right-color: var(--fill-color);\n",
              "      border-top-color: var(--fill-color);\n",
              "    }\n",
              "    60% {\n",
              "      border-color: transparent;\n",
              "      border-right-color: var(--fill-color);\n",
              "    }\n",
              "    80% {\n",
              "      border-color: transparent;\n",
              "      border-right-color: var(--fill-color);\n",
              "      border-bottom-color: var(--fill-color);\n",
              "    }\n",
              "    90% {\n",
              "      border-color: transparent;\n",
              "      border-bottom-color: var(--fill-color);\n",
              "    }\n",
              "  }\n",
              "</style>\n",
              "\n",
              "  <script>\n",
              "    async function quickchart(key) {\n",
              "      const quickchartButtonEl =\n",
              "        document.querySelector('#' + key + ' button');\n",
              "      quickchartButtonEl.disabled = true;  // To prevent multiple clicks.\n",
              "      quickchartButtonEl.classList.add('colab-df-spinner');\n",
              "      try {\n",
              "        const charts = await google.colab.kernel.invokeFunction(\n",
              "            'suggestCharts', [key], {});\n",
              "      } catch (error) {\n",
              "        console.error('Error during call to suggestCharts:', error);\n",
              "      }\n",
              "      quickchartButtonEl.classList.remove('colab-df-spinner');\n",
              "      quickchartButtonEl.classList.add('colab-df-quickchart-complete');\n",
              "    }\n",
              "    (() => {\n",
              "      let quickchartButtonEl =\n",
              "        document.querySelector('#df-edcef095-5bdd-447b-aa6f-888384d0e254 button');\n",
              "      quickchartButtonEl.style.display =\n",
              "        google.colab.kernel.accessAllowed ? 'block' : 'none';\n",
              "    })();\n",
              "  </script>\n",
              "</div>\n",
              "    </div>\n",
              "  </div>\n"
            ]
          },
          "metadata": {},
          "execution_count": 4
        }
      ]
    },
    {
      "cell_type": "code",
      "source": [
        "#Convert the date column to datetime dtype\n",
        "pd.to_datetime(df['date'])"
      ],
      "metadata": {
        "colab": {
          "base_uri": "https://localhost:8080/"
        },
        "id": "pQdkrCSleNFu",
        "outputId": "036be3b6-0bbb-46ab-dd2e-0532637c6eac"
      },
      "execution_count": null,
      "outputs": [
        {
          "output_type": "execute_result",
          "data": {
            "text/plain": [
              "0       1970-01-01 00:00:00.019790101\n",
              "1       1970-01-01 00:00:00.019790102\n",
              "2       1970-01-01 00:00:00.019790103\n",
              "3       1970-01-01 00:00:00.019790104\n",
              "4       1970-01-01 00:00:00.019790105\n",
              "                     ...             \n",
              "15336   1970-01-01 00:00:00.020201227\n",
              "15337   1970-01-01 00:00:00.020201228\n",
              "15338   1970-01-01 00:00:00.020201229\n",
              "15339   1970-01-01 00:00:00.020201230\n",
              "15340   1970-01-01 00:00:00.020201231\n",
              "Name: date, Length: 15341, dtype: datetime64[ns]"
            ]
          },
          "metadata": {},
          "execution_count": 5
        }
      ]
    },
    {
      "cell_type": "code",
      "source": [
        "#Specify the date column and then convert to the datetime according to the format\n",
        "df['date'] = pd.to_datetime(df['date'], format='%Y%m%d')\n",
        "df['date']"
      ],
      "metadata": {
        "colab": {
          "base_uri": "https://localhost:8080/"
        },
        "id": "KBY__XG-ecgH",
        "outputId": "1a5d47f3-49cf-491a-eaf9-1b19ec2ac081"
      },
      "execution_count": null,
      "outputs": [
        {
          "output_type": "execute_result",
          "data": {
            "text/plain": [
              "0       1979-01-01\n",
              "1       1979-01-02\n",
              "2       1979-01-03\n",
              "3       1979-01-04\n",
              "4       1979-01-05\n",
              "           ...    \n",
              "15336   2020-12-27\n",
              "15337   2020-12-28\n",
              "15338   2020-12-29\n",
              "15339   2020-12-30\n",
              "15340   2020-12-31\n",
              "Name: date, Length: 15341, dtype: datetime64[ns]"
            ]
          },
          "metadata": {},
          "execution_count": 6
        }
      ]
    },
    {
      "cell_type": "code",
      "source": [
        "#Set the date column as the index.\n",
        "df = df.set_index('date')\n",
        "df"
      ],
      "metadata": {
        "colab": {
          "base_uri": "https://localhost:8080/",
          "height": 455
        },
        "id": "XB6d9iILeNIt",
        "outputId": "e57dd269-6af5-4432-d759-3d74f5e00001"
      },
      "execution_count": null,
      "outputs": [
        {
          "output_type": "execute_result",
          "data": {
            "text/plain": [
              "            cloud_cover  sunshine  global_radiation  max_temp  mean_temp  \\\n",
              "date                                                                       \n",
              "1979-01-01          2.0       7.0              52.0       2.3       -4.1   \n",
              "1979-01-02          6.0       1.7              27.0       1.6       -2.6   \n",
              "1979-01-03          5.0       0.0              13.0       1.3       -2.8   \n",
              "1979-01-04          8.0       0.0              13.0      -0.3       -2.6   \n",
              "1979-01-05          6.0       2.0              29.0       5.6       -0.8   \n",
              "...                 ...       ...               ...       ...        ...   \n",
              "2020-12-27          1.0       0.9              32.0       7.5        7.5   \n",
              "2020-12-28          7.0       3.7              38.0       3.6        1.1   \n",
              "2020-12-29          7.0       0.0              21.0       4.1        2.6   \n",
              "2020-12-30          6.0       0.4              22.0       5.6        2.7   \n",
              "2020-12-31          7.0       1.3              34.0       1.5       -0.8   \n",
              "\n",
              "            min_temp  precipitation  pressure  snow_depth  \n",
              "date                                                       \n",
              "1979-01-01      -7.5            0.4  101900.0         9.0  \n",
              "1979-01-02      -7.5            0.0  102530.0         8.0  \n",
              "1979-01-03      -7.2            0.0  102050.0         4.0  \n",
              "1979-01-04      -6.5            0.0  100840.0         2.0  \n",
              "1979-01-05      -1.4            0.0  102250.0         1.0  \n",
              "...              ...            ...       ...         ...  \n",
              "2020-12-27       7.6            2.0   98000.0         NaN  \n",
              "2020-12-28      -1.3            0.2   97370.0         NaN  \n",
              "2020-12-29       1.1            0.0   98830.0         NaN  \n",
              "2020-12-30      -0.1            0.0  100200.0         NaN  \n",
              "2020-12-31      -3.1            0.0  100500.0         NaN  \n",
              "\n",
              "[15341 rows x 9 columns]"
            ],
            "text/html": [
              "\n",
              "  <div id=\"df-10b46750-5f0b-4df2-a13b-eb2bbaa5fbcf\" class=\"colab-df-container\">\n",
              "    <div>\n",
              "<style scoped>\n",
              "    .dataframe tbody tr th:only-of-type {\n",
              "        vertical-align: middle;\n",
              "    }\n",
              "\n",
              "    .dataframe tbody tr th {\n",
              "        vertical-align: top;\n",
              "    }\n",
              "\n",
              "    .dataframe thead th {\n",
              "        text-align: right;\n",
              "    }\n",
              "</style>\n",
              "<table border=\"1\" class=\"dataframe\">\n",
              "  <thead>\n",
              "    <tr style=\"text-align: right;\">\n",
              "      <th></th>\n",
              "      <th>cloud_cover</th>\n",
              "      <th>sunshine</th>\n",
              "      <th>global_radiation</th>\n",
              "      <th>max_temp</th>\n",
              "      <th>mean_temp</th>\n",
              "      <th>min_temp</th>\n",
              "      <th>precipitation</th>\n",
              "      <th>pressure</th>\n",
              "      <th>snow_depth</th>\n",
              "    </tr>\n",
              "    <tr>\n",
              "      <th>date</th>\n",
              "      <th></th>\n",
              "      <th></th>\n",
              "      <th></th>\n",
              "      <th></th>\n",
              "      <th></th>\n",
              "      <th></th>\n",
              "      <th></th>\n",
              "      <th></th>\n",
              "      <th></th>\n",
              "    </tr>\n",
              "  </thead>\n",
              "  <tbody>\n",
              "    <tr>\n",
              "      <th>1979-01-01</th>\n",
              "      <td>2.0</td>\n",
              "      <td>7.0</td>\n",
              "      <td>52.0</td>\n",
              "      <td>2.3</td>\n",
              "      <td>-4.1</td>\n",
              "      <td>-7.5</td>\n",
              "      <td>0.4</td>\n",
              "      <td>101900.0</td>\n",
              "      <td>9.0</td>\n",
              "    </tr>\n",
              "    <tr>\n",
              "      <th>1979-01-02</th>\n",
              "      <td>6.0</td>\n",
              "      <td>1.7</td>\n",
              "      <td>27.0</td>\n",
              "      <td>1.6</td>\n",
              "      <td>-2.6</td>\n",
              "      <td>-7.5</td>\n",
              "      <td>0.0</td>\n",
              "      <td>102530.0</td>\n",
              "      <td>8.0</td>\n",
              "    </tr>\n",
              "    <tr>\n",
              "      <th>1979-01-03</th>\n",
              "      <td>5.0</td>\n",
              "      <td>0.0</td>\n",
              "      <td>13.0</td>\n",
              "      <td>1.3</td>\n",
              "      <td>-2.8</td>\n",
              "      <td>-7.2</td>\n",
              "      <td>0.0</td>\n",
              "      <td>102050.0</td>\n",
              "      <td>4.0</td>\n",
              "    </tr>\n",
              "    <tr>\n",
              "      <th>1979-01-04</th>\n",
              "      <td>8.0</td>\n",
              "      <td>0.0</td>\n",
              "      <td>13.0</td>\n",
              "      <td>-0.3</td>\n",
              "      <td>-2.6</td>\n",
              "      <td>-6.5</td>\n",
              "      <td>0.0</td>\n",
              "      <td>100840.0</td>\n",
              "      <td>2.0</td>\n",
              "    </tr>\n",
              "    <tr>\n",
              "      <th>1979-01-05</th>\n",
              "      <td>6.0</td>\n",
              "      <td>2.0</td>\n",
              "      <td>29.0</td>\n",
              "      <td>5.6</td>\n",
              "      <td>-0.8</td>\n",
              "      <td>-1.4</td>\n",
              "      <td>0.0</td>\n",
              "      <td>102250.0</td>\n",
              "      <td>1.0</td>\n",
              "    </tr>\n",
              "    <tr>\n",
              "      <th>...</th>\n",
              "      <td>...</td>\n",
              "      <td>...</td>\n",
              "      <td>...</td>\n",
              "      <td>...</td>\n",
              "      <td>...</td>\n",
              "      <td>...</td>\n",
              "      <td>...</td>\n",
              "      <td>...</td>\n",
              "      <td>...</td>\n",
              "    </tr>\n",
              "    <tr>\n",
              "      <th>2020-12-27</th>\n",
              "      <td>1.0</td>\n",
              "      <td>0.9</td>\n",
              "      <td>32.0</td>\n",
              "      <td>7.5</td>\n",
              "      <td>7.5</td>\n",
              "      <td>7.6</td>\n",
              "      <td>2.0</td>\n",
              "      <td>98000.0</td>\n",
              "      <td>NaN</td>\n",
              "    </tr>\n",
              "    <tr>\n",
              "      <th>2020-12-28</th>\n",
              "      <td>7.0</td>\n",
              "      <td>3.7</td>\n",
              "      <td>38.0</td>\n",
              "      <td>3.6</td>\n",
              "      <td>1.1</td>\n",
              "      <td>-1.3</td>\n",
              "      <td>0.2</td>\n",
              "      <td>97370.0</td>\n",
              "      <td>NaN</td>\n",
              "    </tr>\n",
              "    <tr>\n",
              "      <th>2020-12-29</th>\n",
              "      <td>7.0</td>\n",
              "      <td>0.0</td>\n",
              "      <td>21.0</td>\n",
              "      <td>4.1</td>\n",
              "      <td>2.6</td>\n",
              "      <td>1.1</td>\n",
              "      <td>0.0</td>\n",
              "      <td>98830.0</td>\n",
              "      <td>NaN</td>\n",
              "    </tr>\n",
              "    <tr>\n",
              "      <th>2020-12-30</th>\n",
              "      <td>6.0</td>\n",
              "      <td>0.4</td>\n",
              "      <td>22.0</td>\n",
              "      <td>5.6</td>\n",
              "      <td>2.7</td>\n",
              "      <td>-0.1</td>\n",
              "      <td>0.0</td>\n",
              "      <td>100200.0</td>\n",
              "      <td>NaN</td>\n",
              "    </tr>\n",
              "    <tr>\n",
              "      <th>2020-12-31</th>\n",
              "      <td>7.0</td>\n",
              "      <td>1.3</td>\n",
              "      <td>34.0</td>\n",
              "      <td>1.5</td>\n",
              "      <td>-0.8</td>\n",
              "      <td>-3.1</td>\n",
              "      <td>0.0</td>\n",
              "      <td>100500.0</td>\n",
              "      <td>NaN</td>\n",
              "    </tr>\n",
              "  </tbody>\n",
              "</table>\n",
              "<p>15341 rows × 9 columns</p>\n",
              "</div>\n",
              "    <div class=\"colab-df-buttons\">\n",
              "\n",
              "  <div class=\"colab-df-container\">\n",
              "    <button class=\"colab-df-convert\" onclick=\"convertToInteractive('df-10b46750-5f0b-4df2-a13b-eb2bbaa5fbcf')\"\n",
              "            title=\"Convert this dataframe to an interactive table.\"\n",
              "            style=\"display:none;\">\n",
              "\n",
              "  <svg xmlns=\"http://www.w3.org/2000/svg\" height=\"24px\" viewBox=\"0 -960 960 960\">\n",
              "    <path d=\"M120-120v-720h720v720H120Zm60-500h600v-160H180v160Zm220 220h160v-160H400v160Zm0 220h160v-160H400v160ZM180-400h160v-160H180v160Zm440 0h160v-160H620v160ZM180-180h160v-160H180v160Zm440 0h160v-160H620v160Z\"/>\n",
              "  </svg>\n",
              "    </button>\n",
              "\n",
              "  <style>\n",
              "    .colab-df-container {\n",
              "      display:flex;\n",
              "      gap: 12px;\n",
              "    }\n",
              "\n",
              "    .colab-df-convert {\n",
              "      background-color: #E8F0FE;\n",
              "      border: none;\n",
              "      border-radius: 50%;\n",
              "      cursor: pointer;\n",
              "      display: none;\n",
              "      fill: #1967D2;\n",
              "      height: 32px;\n",
              "      padding: 0 0 0 0;\n",
              "      width: 32px;\n",
              "    }\n",
              "\n",
              "    .colab-df-convert:hover {\n",
              "      background-color: #E2EBFA;\n",
              "      box-shadow: 0px 1px 2px rgba(60, 64, 67, 0.3), 0px 1px 3px 1px rgba(60, 64, 67, 0.15);\n",
              "      fill: #174EA6;\n",
              "    }\n",
              "\n",
              "    .colab-df-buttons div {\n",
              "      margin-bottom: 4px;\n",
              "    }\n",
              "\n",
              "    [theme=dark] .colab-df-convert {\n",
              "      background-color: #3B4455;\n",
              "      fill: #D2E3FC;\n",
              "    }\n",
              "\n",
              "    [theme=dark] .colab-df-convert:hover {\n",
              "      background-color: #434B5C;\n",
              "      box-shadow: 0px 1px 3px 1px rgba(0, 0, 0, 0.15);\n",
              "      filter: drop-shadow(0px 1px 2px rgba(0, 0, 0, 0.3));\n",
              "      fill: #FFFFFF;\n",
              "    }\n",
              "  </style>\n",
              "\n",
              "    <script>\n",
              "      const buttonEl =\n",
              "        document.querySelector('#df-10b46750-5f0b-4df2-a13b-eb2bbaa5fbcf button.colab-df-convert');\n",
              "      buttonEl.style.display =\n",
              "        google.colab.kernel.accessAllowed ? 'block' : 'none';\n",
              "\n",
              "      async function convertToInteractive(key) {\n",
              "        const element = document.querySelector('#df-10b46750-5f0b-4df2-a13b-eb2bbaa5fbcf');\n",
              "        const dataTable =\n",
              "          await google.colab.kernel.invokeFunction('convertToInteractive',\n",
              "                                                    [key], {});\n",
              "        if (!dataTable) return;\n",
              "\n",
              "        const docLinkHtml = 'Like what you see? Visit the ' +\n",
              "          '<a target=\"_blank\" href=https://colab.research.google.com/notebooks/data_table.ipynb>data table notebook</a>'\n",
              "          + ' to learn more about interactive tables.';\n",
              "        element.innerHTML = '';\n",
              "        dataTable['output_type'] = 'display_data';\n",
              "        await google.colab.output.renderOutput(dataTable, element);\n",
              "        const docLink = document.createElement('div');\n",
              "        docLink.innerHTML = docLinkHtml;\n",
              "        element.appendChild(docLink);\n",
              "      }\n",
              "    </script>\n",
              "  </div>\n",
              "\n",
              "\n",
              "<div id=\"df-3dcf4fbb-733e-4868-b4af-ab86a0d7da47\">\n",
              "  <button class=\"colab-df-quickchart\" onclick=\"quickchart('df-3dcf4fbb-733e-4868-b4af-ab86a0d7da47')\"\n",
              "            title=\"Suggest charts\"\n",
              "            style=\"display:none;\">\n",
              "\n",
              "<svg xmlns=\"http://www.w3.org/2000/svg\" height=\"24px\"viewBox=\"0 0 24 24\"\n",
              "     width=\"24px\">\n",
              "    <g>\n",
              "        <path d=\"M19 3H5c-1.1 0-2 .9-2 2v14c0 1.1.9 2 2 2h14c1.1 0 2-.9 2-2V5c0-1.1-.9-2-2-2zM9 17H7v-7h2v7zm4 0h-2V7h2v10zm4 0h-2v-4h2v4z\"/>\n",
              "    </g>\n",
              "</svg>\n",
              "  </button>\n",
              "\n",
              "<style>\n",
              "  .colab-df-quickchart {\n",
              "      --bg-color: #E8F0FE;\n",
              "      --fill-color: #1967D2;\n",
              "      --hover-bg-color: #E2EBFA;\n",
              "      --hover-fill-color: #174EA6;\n",
              "      --disabled-fill-color: #AAA;\n",
              "      --disabled-bg-color: #DDD;\n",
              "  }\n",
              "\n",
              "  [theme=dark] .colab-df-quickchart {\n",
              "      --bg-color: #3B4455;\n",
              "      --fill-color: #D2E3FC;\n",
              "      --hover-bg-color: #434B5C;\n",
              "      --hover-fill-color: #FFFFFF;\n",
              "      --disabled-bg-color: #3B4455;\n",
              "      --disabled-fill-color: #666;\n",
              "  }\n",
              "\n",
              "  .colab-df-quickchart {\n",
              "    background-color: var(--bg-color);\n",
              "    border: none;\n",
              "    border-radius: 50%;\n",
              "    cursor: pointer;\n",
              "    display: none;\n",
              "    fill: var(--fill-color);\n",
              "    height: 32px;\n",
              "    padding: 0;\n",
              "    width: 32px;\n",
              "  }\n",
              "\n",
              "  .colab-df-quickchart:hover {\n",
              "    background-color: var(--hover-bg-color);\n",
              "    box-shadow: 0 1px 2px rgba(60, 64, 67, 0.3), 0 1px 3px 1px rgba(60, 64, 67, 0.15);\n",
              "    fill: var(--button-hover-fill-color);\n",
              "  }\n",
              "\n",
              "  .colab-df-quickchart-complete:disabled,\n",
              "  .colab-df-quickchart-complete:disabled:hover {\n",
              "    background-color: var(--disabled-bg-color);\n",
              "    fill: var(--disabled-fill-color);\n",
              "    box-shadow: none;\n",
              "  }\n",
              "\n",
              "  .colab-df-spinner {\n",
              "    border: 2px solid var(--fill-color);\n",
              "    border-color: transparent;\n",
              "    border-bottom-color: var(--fill-color);\n",
              "    animation:\n",
              "      spin 1s steps(1) infinite;\n",
              "  }\n",
              "\n",
              "  @keyframes spin {\n",
              "    0% {\n",
              "      border-color: transparent;\n",
              "      border-bottom-color: var(--fill-color);\n",
              "      border-left-color: var(--fill-color);\n",
              "    }\n",
              "    20% {\n",
              "      border-color: transparent;\n",
              "      border-left-color: var(--fill-color);\n",
              "      border-top-color: var(--fill-color);\n",
              "    }\n",
              "    30% {\n",
              "      border-color: transparent;\n",
              "      border-left-color: var(--fill-color);\n",
              "      border-top-color: var(--fill-color);\n",
              "      border-right-color: var(--fill-color);\n",
              "    }\n",
              "    40% {\n",
              "      border-color: transparent;\n",
              "      border-right-color: var(--fill-color);\n",
              "      border-top-color: var(--fill-color);\n",
              "    }\n",
              "    60% {\n",
              "      border-color: transparent;\n",
              "      border-right-color: var(--fill-color);\n",
              "    }\n",
              "    80% {\n",
              "      border-color: transparent;\n",
              "      border-right-color: var(--fill-color);\n",
              "      border-bottom-color: var(--fill-color);\n",
              "    }\n",
              "    90% {\n",
              "      border-color: transparent;\n",
              "      border-bottom-color: var(--fill-color);\n",
              "    }\n",
              "  }\n",
              "</style>\n",
              "\n",
              "  <script>\n",
              "    async function quickchart(key) {\n",
              "      const quickchartButtonEl =\n",
              "        document.querySelector('#' + key + ' button');\n",
              "      quickchartButtonEl.disabled = true;  // To prevent multiple clicks.\n",
              "      quickchartButtonEl.classList.add('colab-df-spinner');\n",
              "      try {\n",
              "        const charts = await google.colab.kernel.invokeFunction(\n",
              "            'suggestCharts', [key], {});\n",
              "      } catch (error) {\n",
              "        console.error('Error during call to suggestCharts:', error);\n",
              "      }\n",
              "      quickchartButtonEl.classList.remove('colab-df-spinner');\n",
              "      quickchartButtonEl.classList.add('colab-df-quickchart-complete');\n",
              "    }\n",
              "    (() => {\n",
              "      let quickchartButtonEl =\n",
              "        document.querySelector('#df-3dcf4fbb-733e-4868-b4af-ab86a0d7da47 button');\n",
              "      quickchartButtonEl.style.display =\n",
              "        google.colab.kernel.accessAllowed ? 'block' : 'none';\n",
              "    })();\n",
              "  </script>\n",
              "</div>\n",
              "    </div>\n",
              "  </div>\n"
            ]
          },
          "metadata": {},
          "execution_count": 7
        }
      ]
    },
    {
      "cell_type": "markdown",
      "source": [
        "![image.png](data:image/png;base64,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)"
      ],
      "metadata": {
        "id": "CI3mxBe4h_0D"
      }
    },
    {
      "cell_type": "code",
      "source": [
        "df = df.loc['2000':, ['precipitation', 'mean_temp', 'min_temp',\n",
        "                      'max_temp', 'snow_depth']]\n",
        "df"
      ],
      "metadata": {
        "colab": {
          "base_uri": "https://localhost:8080/",
          "height": 455
        },
        "id": "yxkPcc72iANe",
        "outputId": "2ea398ca-245d-4918-e102-e161ae387c45"
      },
      "execution_count": null,
      "outputs": [
        {
          "output_type": "execute_result",
          "data": {
            "text/plain": [
              "            precipitation  mean_temp  min_temp  max_temp  snow_depth\n",
              "date                                                                \n",
              "2000-01-01            0.0        7.0       4.9      10.8         0.0\n",
              "2000-01-02            0.2        7.9       5.0      11.5         0.0\n",
              "2000-01-03            6.0        9.4       7.2       9.5         0.0\n",
              "2000-01-04            0.2        7.0       4.4      11.0         0.0\n",
              "2000-01-05            0.8        6.4       1.9      10.8         0.0\n",
              "...                   ...        ...       ...       ...         ...\n",
              "2020-12-27            2.0        7.5       7.6       7.5         NaN\n",
              "2020-12-28            0.2        1.1      -1.3       3.6         NaN\n",
              "2020-12-29            0.0        2.6       1.1       4.1         NaN\n",
              "2020-12-30            0.0        2.7      -0.1       5.6         NaN\n",
              "2020-12-31            0.0       -0.8      -3.1       1.5         NaN\n",
              "\n",
              "[7671 rows x 5 columns]"
            ],
            "text/html": [
              "\n",
              "  <div id=\"df-afd394c4-aa43-4408-98d5-cf73421f7e69\" class=\"colab-df-container\">\n",
              "    <div>\n",
              "<style scoped>\n",
              "    .dataframe tbody tr th:only-of-type {\n",
              "        vertical-align: middle;\n",
              "    }\n",
              "\n",
              "    .dataframe tbody tr th {\n",
              "        vertical-align: top;\n",
              "    }\n",
              "\n",
              "    .dataframe thead th {\n",
              "        text-align: right;\n",
              "    }\n",
              "</style>\n",
              "<table border=\"1\" class=\"dataframe\">\n",
              "  <thead>\n",
              "    <tr style=\"text-align: right;\">\n",
              "      <th></th>\n",
              "      <th>precipitation</th>\n",
              "      <th>mean_temp</th>\n",
              "      <th>min_temp</th>\n",
              "      <th>max_temp</th>\n",
              "      <th>snow_depth</th>\n",
              "    </tr>\n",
              "    <tr>\n",
              "      <th>date</th>\n",
              "      <th></th>\n",
              "      <th></th>\n",
              "      <th></th>\n",
              "      <th></th>\n",
              "      <th></th>\n",
              "    </tr>\n",
              "  </thead>\n",
              "  <tbody>\n",
              "    <tr>\n",
              "      <th>2000-01-01</th>\n",
              "      <td>0.0</td>\n",
              "      <td>7.0</td>\n",
              "      <td>4.9</td>\n",
              "      <td>10.8</td>\n",
              "      <td>0.0</td>\n",
              "    </tr>\n",
              "    <tr>\n",
              "      <th>2000-01-02</th>\n",
              "      <td>0.2</td>\n",
              "      <td>7.9</td>\n",
              "      <td>5.0</td>\n",
              "      <td>11.5</td>\n",
              "      <td>0.0</td>\n",
              "    </tr>\n",
              "    <tr>\n",
              "      <th>2000-01-03</th>\n",
              "      <td>6.0</td>\n",
              "      <td>9.4</td>\n",
              "      <td>7.2</td>\n",
              "      <td>9.5</td>\n",
              "      <td>0.0</td>\n",
              "    </tr>\n",
              "    <tr>\n",
              "      <th>2000-01-04</th>\n",
              "      <td>0.2</td>\n",
              "      <td>7.0</td>\n",
              "      <td>4.4</td>\n",
              "      <td>11.0</td>\n",
              "      <td>0.0</td>\n",
              "    </tr>\n",
              "    <tr>\n",
              "      <th>2000-01-05</th>\n",
              "      <td>0.8</td>\n",
              "      <td>6.4</td>\n",
              "      <td>1.9</td>\n",
              "      <td>10.8</td>\n",
              "      <td>0.0</td>\n",
              "    </tr>\n",
              "    <tr>\n",
              "      <th>...</th>\n",
              "      <td>...</td>\n",
              "      <td>...</td>\n",
              "      <td>...</td>\n",
              "      <td>...</td>\n",
              "      <td>...</td>\n",
              "    </tr>\n",
              "    <tr>\n",
              "      <th>2020-12-27</th>\n",
              "      <td>2.0</td>\n",
              "      <td>7.5</td>\n",
              "      <td>7.6</td>\n",
              "      <td>7.5</td>\n",
              "      <td>NaN</td>\n",
              "    </tr>\n",
              "    <tr>\n",
              "      <th>2020-12-28</th>\n",
              "      <td>0.2</td>\n",
              "      <td>1.1</td>\n",
              "      <td>-1.3</td>\n",
              "      <td>3.6</td>\n",
              "      <td>NaN</td>\n",
              "    </tr>\n",
              "    <tr>\n",
              "      <th>2020-12-29</th>\n",
              "      <td>0.0</td>\n",
              "      <td>2.6</td>\n",
              "      <td>1.1</td>\n",
              "      <td>4.1</td>\n",
              "      <td>NaN</td>\n",
              "    </tr>\n",
              "    <tr>\n",
              "      <th>2020-12-30</th>\n",
              "      <td>0.0</td>\n",
              "      <td>2.7</td>\n",
              "      <td>-0.1</td>\n",
              "      <td>5.6</td>\n",
              "      <td>NaN</td>\n",
              "    </tr>\n",
              "    <tr>\n",
              "      <th>2020-12-31</th>\n",
              "      <td>0.0</td>\n",
              "      <td>-0.8</td>\n",
              "      <td>-3.1</td>\n",
              "      <td>1.5</td>\n",
              "      <td>NaN</td>\n",
              "    </tr>\n",
              "  </tbody>\n",
              "</table>\n",
              "<p>7671 rows × 5 columns</p>\n",
              "</div>\n",
              "    <div class=\"colab-df-buttons\">\n",
              "\n",
              "  <div class=\"colab-df-container\">\n",
              "    <button class=\"colab-df-convert\" onclick=\"convertToInteractive('df-afd394c4-aa43-4408-98d5-cf73421f7e69')\"\n",
              "            title=\"Convert this dataframe to an interactive table.\"\n",
              "            style=\"display:none;\">\n",
              "\n",
              "  <svg xmlns=\"http://www.w3.org/2000/svg\" height=\"24px\" viewBox=\"0 -960 960 960\">\n",
              "    <path d=\"M120-120v-720h720v720H120Zm60-500h600v-160H180v160Zm220 220h160v-160H400v160Zm0 220h160v-160H400v160ZM180-400h160v-160H180v160Zm440 0h160v-160H620v160ZM180-180h160v-160H180v160Zm440 0h160v-160H620v160Z\"/>\n",
              "  </svg>\n",
              "    </button>\n",
              "\n",
              "  <style>\n",
              "    .colab-df-container {\n",
              "      display:flex;\n",
              "      gap: 12px;\n",
              "    }\n",
              "\n",
              "    .colab-df-convert {\n",
              "      background-color: #E8F0FE;\n",
              "      border: none;\n",
              "      border-radius: 50%;\n",
              "      cursor: pointer;\n",
              "      display: none;\n",
              "      fill: #1967D2;\n",
              "      height: 32px;\n",
              "      padding: 0 0 0 0;\n",
              "      width: 32px;\n",
              "    }\n",
              "\n",
              "    .colab-df-convert:hover {\n",
              "      background-color: #E2EBFA;\n",
              "      box-shadow: 0px 1px 2px rgba(60, 64, 67, 0.3), 0px 1px 3px 1px rgba(60, 64, 67, 0.15);\n",
              "      fill: #174EA6;\n",
              "    }\n",
              "\n",
              "    .colab-df-buttons div {\n",
              "      margin-bottom: 4px;\n",
              "    }\n",
              "\n",
              "    [theme=dark] .colab-df-convert {\n",
              "      background-color: #3B4455;\n",
              "      fill: #D2E3FC;\n",
              "    }\n",
              "\n",
              "    [theme=dark] .colab-df-convert:hover {\n",
              "      background-color: #434B5C;\n",
              "      box-shadow: 0px 1px 3px 1px rgba(0, 0, 0, 0.15);\n",
              "      filter: drop-shadow(0px 1px 2px rgba(0, 0, 0, 0.3));\n",
              "      fill: #FFFFFF;\n",
              "    }\n",
              "  </style>\n",
              "\n",
              "    <script>\n",
              "      const buttonEl =\n",
              "        document.querySelector('#df-afd394c4-aa43-4408-98d5-cf73421f7e69 button.colab-df-convert');\n",
              "      buttonEl.style.display =\n",
              "        google.colab.kernel.accessAllowed ? 'block' : 'none';\n",
              "\n",
              "      async function convertToInteractive(key) {\n",
              "        const element = document.querySelector('#df-afd394c4-aa43-4408-98d5-cf73421f7e69');\n",
              "        const dataTable =\n",
              "          await google.colab.kernel.invokeFunction('convertToInteractive',\n",
              "                                                    [key], {});\n",
              "        if (!dataTable) return;\n",
              "\n",
              "        const docLinkHtml = 'Like what you see? Visit the ' +\n",
              "          '<a target=\"_blank\" href=https://colab.research.google.com/notebooks/data_table.ipynb>data table notebook</a>'\n",
              "          + ' to learn more about interactive tables.';\n",
              "        element.innerHTML = '';\n",
              "        dataTable['output_type'] = 'display_data';\n",
              "        await google.colab.output.renderOutput(dataTable, element);\n",
              "        const docLink = document.createElement('div');\n",
              "        docLink.innerHTML = docLinkHtml;\n",
              "        element.appendChild(docLink);\n",
              "      }\n",
              "    </script>\n",
              "  </div>\n",
              "\n",
              "\n",
              "<div id=\"df-82d00196-0912-4f23-badf-9c6906b6b5c8\">\n",
              "  <button class=\"colab-df-quickchart\" onclick=\"quickchart('df-82d00196-0912-4f23-badf-9c6906b6b5c8')\"\n",
              "            title=\"Suggest charts\"\n",
              "            style=\"display:none;\">\n",
              "\n",
              "<svg xmlns=\"http://www.w3.org/2000/svg\" height=\"24px\"viewBox=\"0 0 24 24\"\n",
              "     width=\"24px\">\n",
              "    <g>\n",
              "        <path d=\"M19 3H5c-1.1 0-2 .9-2 2v14c0 1.1.9 2 2 2h14c1.1 0 2-.9 2-2V5c0-1.1-.9-2-2-2zM9 17H7v-7h2v7zm4 0h-2V7h2v10zm4 0h-2v-4h2v4z\"/>\n",
              "    </g>\n",
              "</svg>\n",
              "  </button>\n",
              "\n",
              "<style>\n",
              "  .colab-df-quickchart {\n",
              "      --bg-color: #E8F0FE;\n",
              "      --fill-color: #1967D2;\n",
              "      --hover-bg-color: #E2EBFA;\n",
              "      --hover-fill-color: #174EA6;\n",
              "      --disabled-fill-color: #AAA;\n",
              "      --disabled-bg-color: #DDD;\n",
              "  }\n",
              "\n",
              "  [theme=dark] .colab-df-quickchart {\n",
              "      --bg-color: #3B4455;\n",
              "      --fill-color: #D2E3FC;\n",
              "      --hover-bg-color: #434B5C;\n",
              "      --hover-fill-color: #FFFFFF;\n",
              "      --disabled-bg-color: #3B4455;\n",
              "      --disabled-fill-color: #666;\n",
              "  }\n",
              "\n",
              "  .colab-df-quickchart {\n",
              "    background-color: var(--bg-color);\n",
              "    border: none;\n",
              "    border-radius: 50%;\n",
              "    cursor: pointer;\n",
              "    display: none;\n",
              "    fill: var(--fill-color);\n",
              "    height: 32px;\n",
              "    padding: 0;\n",
              "    width: 32px;\n",
              "  }\n",
              "\n",
              "  .colab-df-quickchart:hover {\n",
              "    background-color: var(--hover-bg-color);\n",
              "    box-shadow: 0 1px 2px rgba(60, 64, 67, 0.3), 0 1px 3px 1px rgba(60, 64, 67, 0.15);\n",
              "    fill: var(--button-hover-fill-color);\n",
              "  }\n",
              "\n",
              "  .colab-df-quickchart-complete:disabled,\n",
              "  .colab-df-quickchart-complete:disabled:hover {\n",
              "    background-color: var(--disabled-bg-color);\n",
              "    fill: var(--disabled-fill-color);\n",
              "    box-shadow: none;\n",
              "  }\n",
              "\n",
              "  .colab-df-spinner {\n",
              "    border: 2px solid var(--fill-color);\n",
              "    border-color: transparent;\n",
              "    border-bottom-color: var(--fill-color);\n",
              "    animation:\n",
              "      spin 1s steps(1) infinite;\n",
              "  }\n",
              "\n",
              "  @keyframes spin {\n",
              "    0% {\n",
              "      border-color: transparent;\n",
              "      border-bottom-color: var(--fill-color);\n",
              "      border-left-color: var(--fill-color);\n",
              "    }\n",
              "    20% {\n",
              "      border-color: transparent;\n",
              "      border-left-color: var(--fill-color);\n",
              "      border-top-color: var(--fill-color);\n",
              "    }\n",
              "    30% {\n",
              "      border-color: transparent;\n",
              "      border-left-color: var(--fill-color);\n",
              "      border-top-color: var(--fill-color);\n",
              "      border-right-color: var(--fill-color);\n",
              "    }\n",
              "    40% {\n",
              "      border-color: transparent;\n",
              "      border-right-color: var(--fill-color);\n",
              "      border-top-color: var(--fill-color);\n",
              "    }\n",
              "    60% {\n",
              "      border-color: transparent;\n",
              "      border-right-color: var(--fill-color);\n",
              "    }\n",
              "    80% {\n",
              "      border-color: transparent;\n",
              "      border-right-color: var(--fill-color);\n",
              "      border-bottom-color: var(--fill-color);\n",
              "    }\n",
              "    90% {\n",
              "      border-color: transparent;\n",
              "      border-bottom-color: var(--fill-color);\n",
              "    }\n",
              "  }\n",
              "</style>\n",
              "\n",
              "  <script>\n",
              "    async function quickchart(key) {\n",
              "      const quickchartButtonEl =\n",
              "        document.querySelector('#' + key + ' button');\n",
              "      quickchartButtonEl.disabled = true;  // To prevent multiple clicks.\n",
              "      quickchartButtonEl.classList.add('colab-df-spinner');\n",
              "      try {\n",
              "        const charts = await google.colab.kernel.invokeFunction(\n",
              "            'suggestCharts', [key], {});\n",
              "      } catch (error) {\n",
              "        console.error('Error during call to suggestCharts:', error);\n",
              "      }\n",
              "      quickchartButtonEl.classList.remove('colab-df-spinner');\n",
              "      quickchartButtonEl.classList.add('colab-df-quickchart-complete');\n",
              "    }\n",
              "    (() => {\n",
              "      let quickchartButtonEl =\n",
              "        document.querySelector('#df-82d00196-0912-4f23-badf-9c6906b6b5c8 button');\n",
              "      quickchartButtonEl.style.display =\n",
              "        google.colab.kernel.accessAllowed ? 'block' : 'none';\n",
              "    })();\n",
              "  </script>\n",
              "</div>\n",
              "    </div>\n",
              "  </div>\n"
            ]
          },
          "metadata": {},
          "execution_count": 8
        }
      ]
    },
    {
      "cell_type": "code",
      "source": [
        "#Impute any missing values.\n",
        "df.isna().sum()"
      ],
      "metadata": {
        "colab": {
          "base_uri": "https://localhost:8080/"
        },
        "id": "mlqkS2XueNLV",
        "outputId": "c624f678-4a79-47d0-bdc1-1ce92c9d0905"
      },
      "execution_count": null,
      "outputs": [
        {
          "output_type": "execute_result",
          "data": {
            "text/plain": [
              "precipitation     390\n",
              "mean_temp         419\n",
              "min_temp          386\n",
              "max_temp          390\n",
              "snow_depth       1752\n",
              "dtype: int64"
            ]
          },
          "metadata": {},
          "execution_count": 9
        }
      ]
    },
    {
      "cell_type": "code",
      "source": [
        "#Think about each feature and what imputation method makes sense.\n",
        "df['precipitation'] = df['precipitation'].fillna(0)\n",
        "df['mean_temp'] = df['mean_temp'].interpolate()\n",
        "df['min_temp'] = df['min_temp'].interpolate()\n",
        "df['max_temp'] = df['max_temp'].interpolate()\n",
        "df['snow_depth'] = df['snow_depth'].fillna(0)"
      ],
      "metadata": {
        "id": "sdaC_5AFeNOq"
      },
      "execution_count": null,
      "outputs": []
    },
    {
      "cell_type": "code",
      "source": [
        "df.isna().sum()"
      ],
      "metadata": {
        "colab": {
          "base_uri": "https://localhost:8080/"
        },
        "id": "bNvyeXa3eNRm",
        "outputId": "06121d2a-57e4-44cb-d8ef-9aa9fed5c969"
      },
      "execution_count": null,
      "outputs": [
        {
          "output_type": "execute_result",
          "data": {
            "text/plain": [
              "precipitation    0\n",
              "mean_temp        0\n",
              "min_temp         0\n",
              "max_temp         0\n",
              "snow_depth       0\n",
              "dtype: int64"
            ]
          },
          "metadata": {},
          "execution_count": 11
        }
      ]
    },
    {
      "cell_type": "markdown",
      "source": [
        "Q1: What month had the most precipitation between 2000 through 2010?"
      ],
      "metadata": {
        "id": "eKgFfcvgu0_I"
      }
    },
    {
      "cell_type": "code",
      "source": [
        "#\n",
        "temp_cols = ['precipitation']\n",
        "plot_df = df.loc['2000':'2010', 'precipitation']\n",
        "plot_df"
      ],
      "metadata": {
        "colab": {
          "base_uri": "https://localhost:8080/"
        },
        "id": "zYuluXYNu1hP",
        "outputId": "16b4e7e1-6ec7-4c6b-e12b-b5b622e031ba"
      },
      "execution_count": null,
      "outputs": [
        {
          "output_type": "execute_result",
          "data": {
            "text/plain": [
              "date\n",
              "2000-01-01    0.0\n",
              "2000-01-02    0.2\n",
              "2000-01-03    6.0\n",
              "2000-01-04    0.2\n",
              "2000-01-05    0.8\n",
              "             ... \n",
              "2010-12-27    5.0\n",
              "2010-12-28    0.4\n",
              "2010-12-29    1.4\n",
              "2010-12-30    0.0\n",
              "2010-12-31    0.0\n",
              "Name: precipitation, Length: 4018, dtype: float64"
            ]
          },
          "metadata": {},
          "execution_count": 12
        }
      ]
    },
    {
      "cell_type": "markdown",
      "source": [
        "Resample the precipitation column to a Monthly frequency using .sum() as the aggregation method\n",
        "Find the date and corresponding value for the max precipitation."
      ],
      "metadata": {
        "id": "BbyaXpUww-6R"
      }
    },
    {
      "cell_type": "code",
      "source": [
        "monthp = df['precipitation'].resample('M').sum()\n",
        "monthp"
      ],
      "metadata": {
        "colab": {
          "base_uri": "https://localhost:8080/"
        },
        "id": "8E16_Dphw_Vp",
        "outputId": "9f91f34c-f2b0-416b-9d4b-dc454e0c3dce"
      },
      "execution_count": null,
      "outputs": [
        {
          "output_type": "execute_result",
          "data": {
            "text/plain": [
              "date\n",
              "2000-01-31     14.3\n",
              "2000-02-29     62.2\n",
              "2000-03-31     13.4\n",
              "2000-04-30     71.8\n",
              "2000-05-31     68.4\n",
              "              ...  \n",
              "2020-08-31     45.2\n",
              "2020-09-30     19.2\n",
              "2020-10-31    143.4\n",
              "2020-11-30     47.8\n",
              "2020-12-31     56.4\n",
              "Freq: M, Name: precipitation, Length: 252, dtype: float64"
            ]
          },
          "metadata": {},
          "execution_count": 13
        }
      ]
    },
    {
      "cell_type": "code",
      "source": [
        "date_max_precip = monthp.idxmax()\n",
        "date_max_precip"
      ],
      "metadata": {
        "colab": {
          "base_uri": "https://localhost:8080/"
        },
        "id": "XB_74TYcixHw",
        "outputId": "0d2f47fa-ff2a-49e9-c57c-d4a0d6e56a56"
      },
      "execution_count": null,
      "outputs": [
        {
          "output_type": "execute_result",
          "data": {
            "text/plain": [
              "Timestamp('2014-01-31 00:00:00', freq='M')"
            ]
          },
          "metadata": {},
          "execution_count": 50
        }
      ]
    },
    {
      "cell_type": "code",
      "source": [
        "max_precip = monthp.max()\n",
        "max_precip"
      ],
      "metadata": {
        "colab": {
          "base_uri": "https://localhost:8080/"
        },
        "id": "_95jQfLH3rpp",
        "outputId": "67a48020-91f8-434e-b9fa-c87db9e71df9"
      },
      "execution_count": null,
      "outputs": [
        {
          "output_type": "execute_result",
          "data": {
            "text/plain": [
              "148.6"
            ]
          },
          "metadata": {},
          "execution_count": 51
        }
      ]
    },
    {
      "cell_type": "code",
      "source": [
        "fig, ax = plt.subplots(figsize=(12,3))\n",
        "df.plot(ax=ax)"
      ],
      "metadata": {
        "colab": {
          "base_uri": "https://localhost:8080/",
          "height": 328
        },
        "id": "U4-keA4VixKy",
        "outputId": "84f03c7d-2457-4928-efe7-69cd4a85b8d8"
      },
      "execution_count": null,
      "outputs": [
        {
          "output_type": "execute_result",
          "data": {
            "text/plain": [
              "<Axes: xlabel='date'>"
            ]
          },
          "metadata": {},
          "execution_count": 52
        },
        {
          "output_type": "display_data",
          "data": {
            "text/plain": [
              "<Figure size 1200x300 with 1 Axes>"
            ],
            "image/png": "[encoded data removed]"
          },
          "metadata": {}
        }
      ]
    },
    {
      "cell_type": "code",
      "source": [
        "ax = plot_df.plot(figsize=(12,3))\n",
        "ax.set( title='Precipitation for 2000-2010',\n",
        "      ylabel='Inches')\n",
        "# customize major ticks\n",
        "major_loc =  mdates.YearLocator(5)\n",
        "major_fmt = mdates.DateFormatter(\"%Y\")\n",
        "\n",
        "ax.xaxis.set_major_locator(major_loc)\n",
        "ax.xaxis.set_major_formatter(major_fmt)\n",
        "ax.axvline(x=min_yearly_temp, color='red', linestyle='--', label='Min Temperature Date')\n",
        "# customize minor ticks\n",
        "minor_loc =  mdates.MonthLocator(interval=3)\n",
        "\n",
        "ax.xaxis.set_minor_locator(minor_loc)\n",
        "\n",
        "\n",
        "## Final xdate tweaks\n",
        "fig = ax.get_figure()\n",
        "fig.autofmt_xdate(which='major',rotation=90,ha='center')"
      ],
      "metadata": {
        "colab": {
          "base_uri": "https://localhost:8080/",
          "height": 327
        },
        "id": "QuOesVvJixNm",
        "outputId": "0cc49a71-1267-4159-a6fe-d722acbc13c8"
      },
      "execution_count": null,
      "outputs": [
        {
          "output_type": "display_data",
          "data": {
            "text/plain": [
              "<Figure size 1200x300 with 1 Axes>"
            ],
            "image/png": "[encoded data removed]"
          },
          "metadata": {}
        }
      ]
    },
    {
      "cell_type": "code",
      "source": [
        "temp_col = ['mean_temp']\n",
        "plot_df = df.loc['2000':'2020', 'mean_temp']\n",
        "plot_df"
      ],
      "metadata": {
        "colab": {
          "base_uri": "https://localhost:8080/"
        },
        "id": "q717lMgddpLM",
        "outputId": "7f99cfaf-8b33-477e-dbbe-7ec59f8995a9"
      },
      "execution_count": null,
      "outputs": [
        {
          "output_type": "execute_result",
          "data": {
            "text/plain": [
              "date\n",
              "2000-01-01    7.0\n",
              "2000-01-02    7.9\n",
              "2000-01-03    9.4\n",
              "2000-01-04    7.0\n",
              "2000-01-05    6.4\n",
              "             ... \n",
              "2020-12-27    7.5\n",
              "2020-12-28    1.1\n",
              "2020-12-29    2.6\n",
              "2020-12-30    2.7\n",
              "2020-12-31   -0.8\n",
              "Name: mean_temp, Length: 7671, dtype: float64"
            ]
          },
          "metadata": {},
          "execution_count": 17
        }
      ]
    },
    {
      "cell_type": "code",
      "source": [
        "year = df['mean_temp'].resample('Y').mean()"
      ],
      "metadata": {
        "id": "kstjbKITdpOU"
      },
      "execution_count": null,
      "outputs": []
    },
    {
      "cell_type": "code",
      "source": [
        "yearM_t = year.idxmin()\n",
        "yearM_t"
      ],
      "metadata": {
        "colab": {
          "base_uri": "https://localhost:8080/"
        },
        "id": "x35qAvD-mKP4",
        "outputId": "2df7c571-7049-4972-9c3f-8c8bb421cef9"
      },
      "execution_count": null,
      "outputs": [
        {
          "output_type": "execute_result",
          "data": {
            "text/plain": [
              "Timestamp('2010-12-31 00:00:00', freq='A-DEC')"
            ]
          },
          "metadata": {},
          "execution_count": 35
        }
      ]
    },
    {
      "cell_type": "code",
      "source": [
        "tempM = year.min()\n",
        "tempM"
      ],
      "metadata": {
        "colab": {
          "base_uri": "https://localhost:8080/"
        },
        "id": "FQTv4R44lxC1",
        "outputId": "ac3c5bdd-12fb-489d-ba24-3c6848b14a41"
      },
      "execution_count": null,
      "outputs": [
        {
          "output_type": "execute_result",
          "data": {
            "text/plain": [
              "10.657397260273973"
            ]
          },
          "metadata": {},
          "execution_count": 36
        }
      ]
    },
    {
      "cell_type": "code",
      "source": [
        "ax = plot_df.plot(figsize=(12,3))\n",
        "ax.set( title='Average Temperature',\n",
        "      ylabel='Degrees')\n",
        "# customize major ticks\n",
        "major_loc =  mdates.YearLocator(5)\n",
        "major_fmt = mdates.DateFormatter(\"%Y\")\n",
        "\n",
        "ax.xaxis.set_major_locator(major_loc)\n",
        "ax.xaxis.set_major_formatter(major_fmt)\n",
        "ax.axvline(x=min_yearly_temp, color='red', linestyle='--', label='Min Temperature Date')\n",
        "# customize minor ticks\n",
        "minor_loc =  mdates.MonthLocator(interval=3)\n",
        "\n",
        "ax.xaxis.set_minor_locator(minor_loc)\n",
        "\n",
        "\n",
        "## Final xdate tweaks\n",
        "fig = ax.get_figure()\n",
        "fig.autofmt_xdate(which='major',rotation=90,ha='center')"
      ],
      "metadata": {
        "colab": {
          "base_uri": "https://localhost:8080/",
          "height": 327
        },
        "id": "wN39kpaclLJx",
        "outputId": "45f8cf8b-353f-4df9-99f1-d9cdf85b405b"
      },
      "execution_count": null,
      "outputs": [
        {
          "output_type": "display_data",
          "data": {
            "text/plain": [
              "<Figure size 1200x300 with 1 Axes>"
            ],
            "image/png": "[encoded data removed]"
          },
          "metadata": {}
        }
      ]
    }
  ]
}